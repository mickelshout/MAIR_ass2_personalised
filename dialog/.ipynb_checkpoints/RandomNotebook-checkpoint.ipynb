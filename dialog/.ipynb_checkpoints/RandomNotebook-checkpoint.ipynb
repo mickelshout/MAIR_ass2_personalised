{
 "cells": [
  {
   "cell_type": "code",
   "execution_count": 58,
   "id": "0f55e26e-12f9-4033-9393-7b9a3ffcb218",
   "metadata": {},
   "outputs": [],
   "source": [
    "import numpy as np \n",
    "import pandas as pd\n",
    "import Levenshtein\n",
    "from utils import *"
   ]
  },
  {
   "cell_type": "code",
   "execution_count": 3,
   "id": "d50c779c-e836-45d2-9b44-beca1d61b5a1",
   "metadata": {},
   "outputs": [
    {
     "data": {
      "text/html": [
       "<div>\n",
       "<style scoped>\n",
       "    .dataframe tbody tr th:only-of-type {\n",
       "        vertical-align: middle;\n",
       "    }\n",
       "\n",
       "    .dataframe tbody tr th {\n",
       "        vertical-align: top;\n",
       "    }\n",
       "\n",
       "    .dataframe thead th {\n",
       "        text-align: right;\n",
       "    }\n",
       "</style>\n",
       "<table border=\"1\" class=\"dataframe\">\n",
       "  <thead>\n",
       "    <tr style=\"text-align: right;\">\n",
       "      <th></th>\n",
       "      <th>restaurantname</th>\n",
       "      <th>pricerange</th>\n",
       "      <th>area</th>\n",
       "      <th>food</th>\n",
       "      <th>phone</th>\n",
       "      <th>addr</th>\n",
       "      <th>postcode</th>\n",
       "    </tr>\n",
       "  </thead>\n",
       "  <tbody>\n",
       "    <tr>\n",
       "      <th>0</th>\n",
       "      <td>saint johns chop house</td>\n",
       "      <td>moderate</td>\n",
       "      <td>west</td>\n",
       "      <td>british</td>\n",
       "      <td>01223 353110</td>\n",
       "      <td>21 - 24 northampton street</td>\n",
       "      <td>c.b 3</td>\n",
       "    </tr>\n",
       "    <tr>\n",
       "      <th>1</th>\n",
       "      <td>restaurant alimentum</td>\n",
       "      <td>moderate</td>\n",
       "      <td>north</td>\n",
       "      <td>modern european</td>\n",
       "      <td>01223 413000</td>\n",
       "      <td>152 - 154 hills road</td>\n",
       "      <td>c.b 2</td>\n",
       "    </tr>\n",
       "    <tr>\n",
       "      <th>2</th>\n",
       "      <td>pizza hut cherry hinton</td>\n",
       "      <td>moderate</td>\n",
       "      <td>south</td>\n",
       "      <td>italian</td>\n",
       "      <td>01223 323737</td>\n",
       "      <td>g4 cambridge leisure park clifton way cherry h...</td>\n",
       "      <td>c.b 1</td>\n",
       "    </tr>\n",
       "    <tr>\n",
       "      <th>3</th>\n",
       "      <td>the gardenia</td>\n",
       "      <td>moderate</td>\n",
       "      <td>west</td>\n",
       "      <td>romanian</td>\n",
       "      <td>01223 356354</td>\n",
       "      <td>2 rose crescent city centre</td>\n",
       "      <td>c.b 2</td>\n",
       "    </tr>\n",
       "    <tr>\n",
       "      <th>4</th>\n",
       "      <td>loch fyne</td>\n",
       "      <td>moderate</td>\n",
       "      <td>centre</td>\n",
       "      <td>seafood</td>\n",
       "      <td>01223 362433</td>\n",
       "      <td>the little rose 37 trumpington street</td>\n",
       "      <td>c.b 2</td>\n",
       "    </tr>\n",
       "    <tr>\n",
       "      <th>...</th>\n",
       "      <td>...</td>\n",
       "      <td>...</td>\n",
       "      <td>...</td>\n",
       "      <td>...</td>\n",
       "      <td>...</td>\n",
       "      <td>...</td>\n",
       "      <td>...</td>\n",
       "    </tr>\n",
       "    <tr>\n",
       "      <th>104</th>\n",
       "      <td>panahar</td>\n",
       "      <td>expensive</td>\n",
       "      <td>centre</td>\n",
       "      <td>mediterranean</td>\n",
       "      <td>NaN</td>\n",
       "      <td>NaN</td>\n",
       "      <td>NaN</td>\n",
       "    </tr>\n",
       "    <tr>\n",
       "      <th>105</th>\n",
       "      <td>ugly duckling</td>\n",
       "      <td>expensive</td>\n",
       "      <td>centre</td>\n",
       "      <td>catalan</td>\n",
       "      <td>NaN</td>\n",
       "      <td>12 st. johns street city centre</td>\n",
       "      <td>NaN</td>\n",
       "    </tr>\n",
       "    <tr>\n",
       "      <th>106</th>\n",
       "      <td>pizza express fen ditton</td>\n",
       "      <td>moderate</td>\n",
       "      <td>centre</td>\n",
       "      <td>european</td>\n",
       "      <td>NaN</td>\n",
       "      <td>jesus lane fen ditton</td>\n",
       "      <td>NaN</td>\n",
       "    </tr>\n",
       "    <tr>\n",
       "      <th>107</th>\n",
       "      <td>sesame restaurant and bar</td>\n",
       "      <td>moderate</td>\n",
       "      <td>NaN</td>\n",
       "      <td>turkish</td>\n",
       "      <td>NaN</td>\n",
       "      <td>NaN</td>\n",
       "      <td>NaN</td>\n",
       "    </tr>\n",
       "    <tr>\n",
       "      <th>108</th>\n",
       "      <td>hk fusion</td>\n",
       "      <td>expensive</td>\n",
       "      <td>centre</td>\n",
       "      <td>thai</td>\n",
       "      <td>NaN</td>\n",
       "      <td>21 burleigh street city centre</td>\n",
       "      <td>c.b 1</td>\n",
       "    </tr>\n",
       "  </tbody>\n",
       "</table>\n",
       "<p>109 rows × 7 columns</p>\n",
       "</div>"
      ],
      "text/plain": [
       "                restaurantname pricerange    area             food  \\\n",
       "0       saint johns chop house   moderate    west          british   \n",
       "1         restaurant alimentum   moderate   north  modern european   \n",
       "2      pizza hut cherry hinton   moderate   south          italian   \n",
       "3                 the gardenia   moderate    west         romanian   \n",
       "4                    loch fyne   moderate  centre          seafood   \n",
       "..                         ...        ...     ...              ...   \n",
       "104                    panahar  expensive  centre    mediterranean   \n",
       "105              ugly duckling  expensive  centre          catalan   \n",
       "106   pizza express fen ditton   moderate  centre         european   \n",
       "107  sesame restaurant and bar   moderate     NaN          turkish   \n",
       "108                  hk fusion  expensive  centre             thai   \n",
       "\n",
       "            phone                                               addr postcode  \n",
       "0    01223 353110                         21 - 24 northampton street    c.b 3  \n",
       "1    01223 413000                               152 - 154 hills road    c.b 2  \n",
       "2    01223 323737  g4 cambridge leisure park clifton way cherry h...    c.b 1  \n",
       "3    01223 356354                        2 rose crescent city centre    c.b 2  \n",
       "4    01223 362433              the little rose 37 trumpington street    c.b 2  \n",
       "..            ...                                                ...      ...  \n",
       "104           NaN                                                NaN      NaN  \n",
       "105           NaN                    12 st. johns street city centre      NaN  \n",
       "106           NaN                              jesus lane fen ditton      NaN  \n",
       "107           NaN                                                NaN      NaN  \n",
       "108           NaN                     21 burleigh street city centre    c.b 1  \n",
       "\n",
       "[109 rows x 7 columns]"
      ]
     },
     "execution_count": 3,
     "metadata": {},
     "output_type": "execute_result"
    }
   ],
   "source": [
    "df = pd.read_csv(\"../data/restaurant_info.csv\")\n",
    "df"
   ]
  },
  {
   "cell_type": "code",
   "execution_count": 169,
   "id": "46c2ad2a-bea3-4290-91f1-4fe416288971",
   "metadata": {},
   "outputs": [
    {
     "name": "stdout",
     "output_type": "stream",
     "text": [
      "['african', 'asian oriental', 'australasian', 'bistro', 'british', 'catalan', 'chinese', 'cuban', 'european', 'french', 'fusion', 'gastropub', 'indian', 'international', 'italian', 'jamaican', 'japanese', 'korean', 'lebanese', 'mediterranean', 'modern european', 'moroccan', 'north american', 'persian', 'polynesian', 'portuguese', 'romanian', 'seafood', 'spanish', 'steakhouse', 'swiss', 'thai', 'traditional', 'turkish', 'tuscan', 'vietnamese', 'greek']\n",
      "['cheap' 'expensive' 'moderate']\n",
      "['centre', 'east', 'north', 'south', 'west']\n"
     ]
    }
   ],
   "source": [
    "food_types = list(np.unique(df.food)) + ['greek']\n",
    "pricerange = np.unique(df.pricerange)\n",
    "areas = list(np.unique(df.area.fillna('unknown')))\n",
    "areas.remove(\"unknown\")\n",
    "\n",
    "print(food_types)\n",
    "print(pricerange)\n",
    "print(areas)"
   ]
  },
  {
   "cell_type": "code",
   "execution_count": 209,
   "id": "88ffde30-325c-4ef2-ba97-74e9b7e9624d",
   "metadata": {},
   "outputs": [],
   "source": [
    "def find_preferences(sentence):\n",
    "    sentence = sentence.lower().split(' ')\n",
    "    f, p, a = None, None, None\n",
    "\n",
    "    # Iterate over sentence\n",
    "    for i in range(len(sentence)):\n",
    "        # Discard very short words\n",
    "        word = str(sentence[i])\n",
    "        if len(word) < 4:\n",
    "            continue\n",
    "\n",
    "        # Check for special food types:\n",
    "        if Levenshtein.distance(word, \"north\") < 3 and Levenshtein.distance(str(sentence[i+1]), \"american\") < 3:\n",
    "            f = \"north american\"\n",
    "        elif Levenshtein.distance(word, \"modern\") < 3 and Levenshtein.distance(str(sentence[i+1]), \"european\") < 3:\n",
    "            f = \"modern european\"\n",
    "            \n",
    "        # Look for exact words or structures\n",
    "        elif word in food_types and not f:\n",
    "            f = word\n",
    "        elif (Levenshtein.distance(word, \"food\") < 3 or Levenshtein.distance(word, \"restaurant\") < 3) and not f:\n",
    "            food = str(sentence[i-1])\n",
    "            if len(food) < 4:\n",
    "                continue\n",
    "            else:\n",
    "                distances = []\n",
    "                for j in food_types:\n",
    "                    distances.append(Levenshtein.distance(food, j))\n",
    "                if min(distances) < 3:\n",
    "                    f = food_types[np.argmin(distances)]   \n",
    "                    \n",
    "        elif word in areas:\n",
    "            # Check that is not north american type of food\n",
    "            a = word\n",
    "        elif (Levenshtein.distance(word, \"area\") < 3 or Levenshtein.distance(word, \"part\") < 3) and not a:\n",
    "            area = str(sentence[i-1])\n",
    "            if len(area) < 4:\n",
    "                continue\n",
    "            else:\n",
    "                distances = []\n",
    "                for j in areas:\n",
    "                    distances.append(Levenshtein.distance(area, j))\n",
    "                if min(distances) < 3:                \n",
    "                    a = areas[np.argmin(distances)]           \n",
    "                    \n",
    "        elif word in pricerange:\n",
    "            p = word\n",
    "        elif (Levenshtein.distance(word, \"price\") < 3 or  Levenshtein.distance(word, \"restaurant\") < 3) and not p:\n",
    "            price = str(sentence[i-1])\n",
    "            if len(price) < 4:\n",
    "                continue\n",
    "            else:\n",
    "                distances = []\n",
    "                for j in pricerange:\n",
    "                    distances.append(Levenshtein.distance(price, j))\n",
    "                if min(distances) < 3:                \n",
    "                    p = pricerange[np.argmin(distances)]\n",
    "\n",
    "        # Since we have few possible areas and priceranges, check that the word is none of them\n",
    "        else:\n",
    "            if not p:\n",
    "                distances = []\n",
    "                for j in pricerange:\n",
    "                    distances.append(Levenshtein.distance(word, j))\n",
    "                if min(distances) < 3:                \n",
    "                    p = pricerange[np.argmin(distances)]\n",
    "            if not a:\n",
    "                distances = []\n",
    "                for j in areas:\n",
    "                    distances.append(Levenshtein.distance(word, j))\n",
    "                if min(distances) < 3:                \n",
    "                    a = areas[np.argmin(distances)]\n",
    "            \n",
    "    return {\"food\": f, \"price\": p, \"area\":a}\n"
   ]
  },
  {
   "cell_type": "code",
   "execution_count": 210,
   "id": "5583fb2a-8334-4eaa-9b95-967deccd18b2",
   "metadata": {},
   "outputs": [
    {
     "data": {
      "text/plain": [
       "{'food': None, 'price': 'moderate', 'area': 'east'}"
      ]
     },
     "execution_count": 210,
     "metadata": {},
     "output_type": "execute_result"
    }
   ],
   "source": [
    "find_preferences(\" looking for a moderately priced restaurant in the east part of town\")"
   ]
  },
  {
   "cell_type": "code",
   "execution_count": 211,
   "id": "3ad3458d-f7d1-48d9-83c0-2d2062299fc1",
   "metadata": {},
   "outputs": [
    {
     "data": {
      "text/plain": [
       "{'food': None, 'price': 'cheap', 'area': 'east'}"
      ]
     },
     "execution_count": 211,
     "metadata": {},
     "output_type": "execute_result"
    }
   ],
   "source": [
    "find_preferences(\"im looking for a cheap restaurant in the east part of town\")"
   ]
  },
  {
   "cell_type": "code",
   "execution_count": 212,
   "id": "a102862e-3e09-4ebb-83fc-deac3b73cd6e",
   "metadata": {},
   "outputs": [
    {
     "data": {
      "text/plain": [
       "{'food': 'greek', 'price': None, 'area': 'centre'}"
      ]
     },
     "execution_count": 212,
     "metadata": {},
     "output_type": "execute_result"
    }
   ],
   "source": [
    "find_preferences(\"im looking for a restaurant in the center serving greek food\")"
   ]
  },
  {
   "cell_type": "code",
   "execution_count": 213,
   "id": "0d1ef8e6-6843-4488-b51c-08e004ba5aa5",
   "metadata": {},
   "outputs": [
    {
     "data": {
      "text/plain": [
       "{'food': 'gastropub', 'price': 'cheap', 'area': 'east'}"
      ]
     },
     "execution_count": 213,
     "metadata": {},
     "output_type": "execute_result"
    }
   ],
   "source": [
    "find_preferences(\"im looking for gastropub food that is cheap in the east\")"
   ]
  },
  {
   "cell_type": "code",
   "execution_count": 214,
   "id": "a8b20f05-3650-469e-a799-394910848de3",
   "metadata": {},
   "outputs": [
    {
     "data": {
      "text/plain": [
       "{'food': 'turkish', 'price': 'moderate', 'area': None}"
      ]
     },
     "execution_count": 214,
     "metadata": {},
     "output_type": "execute_result"
    }
   ],
   "source": [
    "find_preferences(\"im looking for a moderately priced restaurant that serves turkish food\")"
   ]
  },
  {
   "cell_type": "code",
   "execution_count": 215,
   "id": "184ce48b-464d-441d-9bde-b145059bdb16",
   "metadata": {},
   "outputs": [
    {
     "data": {
      "text/plain": [
       "{'food': 'north american', 'price': None, 'area': None}"
      ]
     },
     "execution_count": 215,
     "metadata": {},
     "output_type": "execute_result"
    }
   ],
   "source": [
    "find_preferences(\"how about north american food\")"
   ]
  },
  {
   "cell_type": "code",
   "execution_count": 216,
   "id": "28c3a79f-d49e-4aed-ba3e-a9c705f2c989",
   "metadata": {},
   "outputs": [
    {
     "data": {
      "text/plain": [
       "{'food': 'modern european', 'price': None, 'area': None}"
      ]
     },
     "execution_count": 216,
     "metadata": {},
     "output_type": "execute_result"
    }
   ],
   "source": [
    "find_preferences(\"i want a modern european restaurant\")"
   ]
  },
  {
   "cell_type": "code",
   "execution_count": null,
   "id": "b6586178-a1a4-47bf-9e7b-059d75f32f3f",
   "metadata": {},
   "outputs": [],
   "source": []
  }
 ],
 "metadata": {
  "kernelspec": {
   "display_name": "Python 3 (ipykernel)",
   "language": "python",
   "name": "python3"
  },
  "language_info": {
   "codemirror_mode": {
    "name": "ipython",
    "version": 3
   },
   "file_extension": ".py",
   "mimetype": "text/x-python",
   "name": "python",
   "nbconvert_exporter": "python",
   "pygments_lexer": "ipython3",
   "version": "3.11.0"
  }
 },
 "nbformat": 4,
 "nbformat_minor": 5
}
