{
 "cells": [
  {
   "cell_type": "code",
   "execution_count": 6,
   "id": "4844612d-ee97-4a35-a99f-08054b363081",
   "metadata": {},
   "outputs": [],
   "source": [
    "import pandas as pd\n",
    "import numpy as np"
   ]
  },
  {
   "cell_type": "code",
   "execution_count": 3,
   "id": "fd4d7bd9-a089-4603-a88d-224027ace7bd",
   "metadata": {},
   "outputs": [
    {
     "data": {
      "text/html": [
       "<div>\n",
       "<style scoped>\n",
       "    .dataframe tbody tr th:only-of-type {\n",
       "        vertical-align: middle;\n",
       "    }\n",
       "\n",
       "    .dataframe tbody tr th {\n",
       "        vertical-align: top;\n",
       "    }\n",
       "\n",
       "    .dataframe thead th {\n",
       "        text-align: right;\n",
       "    }\n",
       "</style>\n",
       "<table border=\"1\" class=\"dataframe\">\n",
       "  <thead>\n",
       "    <tr style=\"text-align: right;\">\n",
       "      <th></th>\n",
       "      <th>restaurantname</th>\n",
       "      <th>pricerange</th>\n",
       "      <th>area</th>\n",
       "      <th>food</th>\n",
       "      <th>phone</th>\n",
       "      <th>addr</th>\n",
       "      <th>postcode</th>\n",
       "    </tr>\n",
       "  </thead>\n",
       "  <tbody>\n",
       "    <tr>\n",
       "      <th>0</th>\n",
       "      <td>saint johns chop house</td>\n",
       "      <td>moderate</td>\n",
       "      <td>west</td>\n",
       "      <td>british</td>\n",
       "      <td>01223 353110</td>\n",
       "      <td>21 - 24 northampton street</td>\n",
       "      <td>c.b 3</td>\n",
       "    </tr>\n",
       "    <tr>\n",
       "      <th>1</th>\n",
       "      <td>restaurant alimentum</td>\n",
       "      <td>moderate</td>\n",
       "      <td>north</td>\n",
       "      <td>modern european</td>\n",
       "      <td>01223 413000</td>\n",
       "      <td>152 - 154 hills road</td>\n",
       "      <td>c.b 2</td>\n",
       "    </tr>\n",
       "    <tr>\n",
       "      <th>2</th>\n",
       "      <td>pizza hut cherry hinton</td>\n",
       "      <td>moderate</td>\n",
       "      <td>south</td>\n",
       "      <td>italian</td>\n",
       "      <td>01223 323737</td>\n",
       "      <td>g4 cambridge leisure park clifton way cherry h...</td>\n",
       "      <td>c.b 1</td>\n",
       "    </tr>\n",
       "    <tr>\n",
       "      <th>3</th>\n",
       "      <td>the gardenia</td>\n",
       "      <td>moderate</td>\n",
       "      <td>west</td>\n",
       "      <td>romanian</td>\n",
       "      <td>01223 356354</td>\n",
       "      <td>2 rose crescent city centre</td>\n",
       "      <td>c.b 2</td>\n",
       "    </tr>\n",
       "    <tr>\n",
       "      <th>4</th>\n",
       "      <td>loch fyne</td>\n",
       "      <td>moderate</td>\n",
       "      <td>centre</td>\n",
       "      <td>seafood</td>\n",
       "      <td>01223 362433</td>\n",
       "      <td>the little rose 37 trumpington street</td>\n",
       "      <td>c.b 2</td>\n",
       "    </tr>\n",
       "  </tbody>\n",
       "</table>\n",
       "</div>"
      ],
      "text/plain": [
       "            restaurantname pricerange    area             food         phone  \\\n",
       "0   saint johns chop house   moderate    west          british  01223 353110   \n",
       "1     restaurant alimentum   moderate   north  modern european  01223 413000   \n",
       "2  pizza hut cherry hinton   moderate   south          italian  01223 323737   \n",
       "3             the gardenia   moderate    west         romanian  01223 356354   \n",
       "4                loch fyne   moderate  centre          seafood  01223 362433   \n",
       "\n",
       "                                                addr postcode  \n",
       "0                         21 - 24 northampton street    c.b 3  \n",
       "1                               152 - 154 hills road    c.b 2  \n",
       "2  g4 cambridge leisure park clifton way cherry h...    c.b 1  \n",
       "3                        2 rose crescent city centre    c.b 2  \n",
       "4              the little rose 37 trumpington street    c.b 2  "
      ]
     },
     "execution_count": 3,
     "metadata": {},
     "output_type": "execute_result"
    }
   ],
   "source": [
    "df = pd.read_csv(\"../data/restaurant_info.csv\")\n",
    "df.head()"
   ]
  },
  {
   "cell_type": "code",
   "execution_count": 10,
   "id": "060b0358-370d-4ff0-b7c4-8c25b447322d",
   "metadata": {},
   "outputs": [],
   "source": [
    "df[\"quality\"] =  np.random.choice(a=[False, True], size=(df.shape[0])) \n",
    "df[\"crowdedness\"] =  np.random.choice(a=[False, True], size=(df.shape[0])) \n",
    "df[\"length_stay\"] =  np.random.choice(a=[False, True], size=(df.shape[0])) \n",
    "\n",
    "df.to_csv(\"../data/restaurant_info.csv\")"
   ]
  }
 ],
 "metadata": {
  "kernelspec": {
   "display_name": "Python 3 (ipykernel)",
   "language": "python",
   "name": "python3"
  },
  "language_info": {
   "codemirror_mode": {
    "name": "ipython",
    "version": 3
   },
   "file_extension": ".py",
   "mimetype": "text/x-python",
   "name": "python",
   "nbconvert_exporter": "python",
   "pygments_lexer": "ipython3",
   "version": "3.11.0"
  }
 },
 "nbformat": 4,
 "nbformat_minor": 5
}
